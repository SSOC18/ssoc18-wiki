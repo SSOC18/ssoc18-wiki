{
 "cells": [
  {
   "cell_type": "markdown",
   "metadata": {},
   "source": [
    "## Market Eye - Alert System for daily >5% price crash"
   ]
  },
  {
   "cell_type": "code",
   "execution_count": null,
   "metadata": {},
   "outputs": [],
   "source": [
    "import slumber\n",
    "from datetime import datetime\n",
    "import pandas as pd\n",
    "import requests\n",
    "from requests.adapters import HTTPAdapter\n",
    "from requests.packages.urllib3.util.retry import Retry\n",
    "from decimal import Decimal as D\n",
    "import logging\n",
    "#logger = logging.getLogger()\n",
    "#logger.setLevel(logging.DEBUG)\n",
    "import matplotlib.pyplot as plt\n",
    "%matplotlib inline\n",
    "import copy\n",
    "import numpy as np\n",
    "import time\n",
    "import os\n",
    "import smtplib\n",
    "from sqlalchemy import create_engine\n",
    "import psycopg2\n",
    "import sys\n",
    "\n",
    "fn = '/home/mickael/1-btc_order_book_monitor/db_pwd.secret'\n",
    "pwd = open(fn, 'r').readlines()[0]\n",
    "pwd = pwd.strip()\n",
    "engine = create_engine(\"postgresql+psycopg2://mickael:%s@localhost/cryppro_v0\"%pwd)\n",
    "\n",
    "df2 = pd.read_sql_table('btcprice', con=engine)\n",
    "d = datetime.now()\n",
    "only_date, only_time = str(d.date()), str(d.time())\n",
    "\n",
    "df = pd.DataFrame({})\n",
    "for a in range(0,len(df2)):\n",
    "    if only_date not in df2.iloc[a,1]:\n",
    "        ''\n",
    "    else:\n",
    "        df = df.append(df2.iloc[a])\n",
    "today_open, last_price = df.iloc[0,3], df.iloc[len(df)-1,3]\n",
    "ROC_price = (last_price - today_open)/today_open\n",
    "if ROC_price < (-0.05):\n",
    "    import smtplib\n",
    "    server = smtplib.SMTP('smtp.gmail.com', port=587)\n",
    "    server.connect('smtp.gmail.com', 587)\n",
    "    server.ehlo()\n",
    "    server.starttls()\n",
    "    server.ehlo()\n",
    "    fn = '/home/mickael/1-btc_order_book_monitor/db_pwd.secret'\n",
    "    pwd = open(fn, 'r').readlines()[1]\n",
    "    pwd = pwd.strip()\n",
    "    server.login(\"market.eye.alerts@gmail.com\", pwd)\n",
    "    msg = \"ALERT! PRICE CRASH >5%\"\n",
    "    server.sendmail(\"market.eye.alerts@gmail.com\", [\"market.eye.alerts@gmail.com\",\"mickael.mekari@gmail.com\",\"shadi@akikieng.com\"], msg) \n",
    "    server.quit()\n",
    "if ROC_price > (0.05):\n",
    "    import smtplib\n",
    "    server = smtplib.SMTP('smtp.gmail.com', port=587)\n",
    "    server.connect('smtp.gmail.com', 587)\n",
    "    server.ehlo()\n",
    "    server.starttls()\n",
    "    server.ehlo()\n",
    "    fn = '/home/mickael/1-btc_order_book_monitor/db_pwd.secret'\n",
    "    pwd = open(fn, 'r').readlines()[1]\n",
    "    pwd = pwd.strip()\n",
    "    server.login(\"market.eye.alerts@gmail.com\", pwd)\n",
    "    msg = \"ALERT! PRICE HIKE >5%\"\n",
    "    server.sendmail(\"market.eye.alerts@gmail.com\", [\"market.eye.alerts@gmail.com\",\"mickael.mekari@gmail.com\",\"shadi@akikieng.com\"], msg) \n",
    "    server.quit()"
   ]
  },
  {
   "cell_type": "code",
   "execution_count": null,
   "metadata": {},
   "outputs": [],
   "source": [
    "df"
   ]
  },
  {
   "cell_type": "markdown",
   "metadata": {},
   "source": [
    "### Other script to send email\n",
    "\n",
    "def send_email(user, pwd, recipient, subject, body):\n",
    "    import smtplib\n",
    "\n",
    "    FROM = user\n",
    "    TO = recipient if isinstance(recipient, list) else [recipient]\n",
    "    SUBJECT = subject\n",
    "    TEXT = body\n",
    "\n",
    "    # Prepare actual message\n",
    "    message = \"\"\"From: %s\\nTo: %s\\nSubject: %s\\n\\n%s\n",
    "    \"\"\" % (FROM, \", \".join(TO), SUBJECT, TEXT)\n",
    "    try:\n",
    "        server = smtplib.SMTP(\"smtp.gmail.com\", 587)\n",
    "        server.ehlo()\n",
    "        server.starttls()\n",
    "        server.login(user, pwd)\n",
    "        server.sendmail(FROM, TO, message)\n",
    "        server.close()\n",
    "        print('successfully sent the mail')\n",
    "    except:\n",
    "        print(\"failed to send mail\")\n",
    "\n",
    "send_email('market.eye.alerts@gmail.com', 'asdzxc3$R', recipient = 'mickael.mekari@gmail.com', subject='ALERT',body ='ALERT')"
   ]
  },
  {
   "cell_type": "code",
   "execution_count": null,
   "metadata": {},
   "outputs": [],
   "source": []
  }
 ],
 "metadata": {
  "kernelspec": {
   "display_name": "Python 3",
   "language": "python",
   "name": "python3"
  },
  "language_info": {
   "codemirror_mode": {
    "name": "ipython",
    "version": 3
   },
   "file_extension": ".py",
   "mimetype": "text/x-python",
   "name": "python",
   "nbconvert_exporter": "python",
   "pygments_lexer": "ipython3",
   "version": "3.5.2"
  }
 },
 "nbformat": 4,
 "nbformat_minor": 2
}
