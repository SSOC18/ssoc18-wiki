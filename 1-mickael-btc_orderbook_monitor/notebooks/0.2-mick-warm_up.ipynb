{
 "cells": [
  {
   "cell_type": "code",
   "execution_count": null,
   "metadata": {},
   "outputs": [],
   "source": [
    "import pandas as pd\n",
    "pd.DataFrame({'a': [1,2,3]})"
   ]
  },
  {
   "cell_type": "markdown",
   "metadata": {},
   "source": [
    "## sample function to extract data from kraken"
   ]
  },
  {
   "cell_type": "code",
   "execution_count": null,
   "metadata": {},
   "outputs": [],
   "source": [
    "import slumber\n",
    "import pandas as pd\n",
    "import requests\n",
    "from requests.adapters import HTTPAdapter\n",
    "from requests.packages.urllib3.util.retry import Retry\n",
    "from decimal import Decimal as D\n",
    "import logging\n",
    "#logger = logging.getLogger()\n",
    "#logger.setLevel(logging.DEBUG)\n",
    "import copy\n",
    "\n",
    "import numpy as np"
   ]
  },
  {
   "cell_type": "code",
   "execution_count": null,
   "metadata": {},
   "outputs": [],
   "source": [
    "class Exchange:\n",
    "  def __init__(self, url, commissions):\n",
    "    self.url = url\n",
    "    self.commissions = commissions\n",
    "    self.api = None\n",
    "    self.session = None\n",
    "\n",
    "  def get_requests_session(self):\n",
    "    if self.session is not None:\n",
    "      return self.session\n",
    "\n",
    "    s = requests.Session()\n",
    "    retries = Retry(total=5, backoff_factor=1, status_forcelist=[ 404, 502, 503, 504 ])\n",
    "    s.mount('https://', HTTPAdapter(max_retries=retries))\n",
    "    self.session = s\n",
    "    return s\n",
    "\n",
    "  def get_slumber_api(self, append_slash=True):\n",
    "    if self.api is not None:\n",
    "      return self.api\n",
    "\n",
    "    s = self.get_requests_session()\n",
    "    self.api = slumber.API(self.url, session=s, append_slash=append_slash)\n",
    "    return self.api\n",
    "\n",
    "  def fetch(self, ticker):\n",
    "    raise ValueError(\"Not implemented\")\n",
    "\n",
    "  def postprocess(self, ob1, ticker):\n",
    "    raise ValueError(\"Not implemented\")\n",
    "\n",
    "\n",
    "\n",
    "class Kraken(Exchange):\n",
    "  def __init__(self):\n",
    "    super().__init__(\n",
    "      url=\"https://api.kraken.com/0/public/\",\n",
    "      commissions = D('0.14')/100\n",
    "    )\n",
    "\n",
    "  def fetch(self, ticker):\n",
    "    logging.debug('fetch kraken')\n",
    "\n",
    "    api = self.get_slumber_api(append_slash=False)\n",
    "    ob1 = api.Depth.get(pair=ticker, count=30)\n",
    "    return ob1\n",
    "\n",
    "  def postprocess(self, ob1, ticker):\n",
    "    \"\"\"\n",
    "    ob1 - output of self.fetch(ticker)\n",
    "    \"\"\"\n",
    "    logging.debug('postprocess kraken')\n",
    "    \n",
    "    if ob1['error']:\n",
    "        raise ValueError(\"Kraken error: %s\"%(ob1['error']))\n",
    "\n",
    "    ob2 = copy.deepcopy(ob1)\n",
    "    ob2 = list(ob2['result'].values())[0]\n",
    "    for k1 in ['asks', 'bids']:\n",
    "        ob2[k1] = pd.DataFrame(ob2[k1]).rename(columns={0:'price', 1:'amount', 2:'timestamp'})\n",
    "        # convert to Decimal\n",
    "        for k2 in ['price', 'amount']:\n",
    "            ob2[k1][k2] = [D(x) for x in ob2[k1][k2].values]\n",
    "\n",
    "    # commissions\n",
    "    ob2['asks']['price pre-commission'] =  ob2['asks']['price']\n",
    "    ob2['bids']['price pre-commission'] =  ob2['bids']['price']\n",
    "    ob2['asks']['price'] = ob2['asks']['price'] * (1+self.commissions)\n",
    "    ob2['bids']['price'] = ob2['bids']['price'] * (1-self.commissions)\n",
    "\n",
    "    # set side\n",
    "    ob2['asks']['side'] = 'ask'\n",
    "    ob2['bids']['side'] = 'bid'\n",
    "\n",
    "    ob3 = pd.concat([ob2['asks'], ob2['bids']], axis=0).reset_index(drop=True)\n",
    "    ob3['source'] = 'kraken.com'\n",
    "    ob3['ticker'] = ticker\n",
    "\n",
    "    return ob3"
   ]
  },
  {
   "cell_type": "code",
   "execution_count": null,
   "metadata": {},
   "outputs": [],
   "source": [
    "kraken = Kraken()\n",
    "ticker = 'XBTUSD'\n",
    "order_book = kraken.fetch(ticker)\n",
    "order_book = kraken.postprocess(order_book, ticker)"
   ]
  },
  {
   "cell_type": "code",
   "execution_count": null,
   "metadata": {
    "scrolled": false
   },
   "outputs": [],
   "source": [
    "order_book"
   ]
  },
  {
   "cell_type": "code",
   "execution_count": null,
   "metadata": {},
   "outputs": [],
   "source": [
    "min_ask = order_book[order_book['side']=='ask']['price'].min()\n",
    "max_bid = order_book[order_book['side']=='bid']['price'].max()\n",
    "spread = min_ask - max_bid\n",
    "spread_array.append(spread)"
   ]
  },
  {
   "cell_type": "code",
   "execution_count": null,
   "metadata": {},
   "outputs": [],
   "source": [
    "volatility_std = np.std(spread_array)\n",
    "volatility_var = np.var(spread_array)\n",
    "print(volatility_std, volatility_var)"
   ]
  },
  {
   "cell_type": "code",
   "execution_count": null,
   "metadata": {},
   "outputs": [],
   "source": [
    "pd.Series([float(x) for x in spread_array]).std()"
   ]
  },
  {
   "cell_type": "code",
   "execution_count": null,
   "metadata": {},
   "outputs": [],
   "source": [
    "df_spread = pd.DataFrame({'spread': [float(x) for x in spread_array]})\n",
    "df_spread"
   ]
  },
  {
   "cell_type": "code",
   "execution_count": null,
   "metadata": {},
   "outputs": [],
   "source": [
    "df_spread.rolling(window=5).std()"
   ]
  },
  {
   "cell_type": "code",
   "execution_count": null,
   "metadata": {},
   "outputs": [],
   "source": [
    "df_spread.plot(style='.-')"
   ]
  },
  {
   "cell_type": "code",
   "execution_count": null,
   "metadata": {},
   "outputs": [],
   "source": [
    "df_spread.rolling(window=5).std().plot(style='-.')"
   ]
  },
  {
   "cell_type": "code",
   "execution_count": null,
   "metadata": {},
   "outputs": [],
   "source": []
  }
 ],
 "metadata": {
  "kernelspec": {
   "display_name": "Python 3",
   "language": "python",
   "name": "python3"
  },
  "language_info": {
   "codemirror_mode": {
    "name": "ipython",
    "version": 3
   },
   "file_extension": ".py",
   "mimetype": "text/x-python",
   "name": "python",
   "nbconvert_exporter": "python",
   "pygments_lexer": "ipython3",
   "version": "3.5.2"
  }
 },
 "nbformat": 4,
 "nbformat_minor": 2
}
