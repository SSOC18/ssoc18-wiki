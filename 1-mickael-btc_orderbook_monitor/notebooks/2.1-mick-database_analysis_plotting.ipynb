{
 "cells": [
  {
   "cell_type": "markdown",
   "metadata": {},
   "source": [
    "## Historical Analysis from database (table btcprice)"
   ]
  },
  {
   "cell_type": "code",
   "execution_count": null,
   "metadata": {},
   "outputs": [],
   "source": [
    "import pandas as pd\n",
    "import requests\n",
    "import copy\n",
    "import numpy as np\n",
    "import time\n",
    "import os\n",
    "from sqlalchemy import create_engine\n",
    "import matplotlib.pyplot as plt\n",
    "%matplotlib inline \n",
    "import psycopg2\n",
    "import sys\n",
    "\n",
    "fn = '/home/mickael/1-btc_order_book_monitor/db_pwd.secret'\n",
    "pwd = open(fn, 'r').readlines()[0]\n",
    "pwd = pwd.strip()\n",
    "engine = create_engine(\"postgresql+psycopg2://mickael:%s@localhost/cryppro_v0\"%pwd)\n",
    "\n",
    "df2 = pd.read_sql_table('btcprice', con=engine)\n",
    "\n",
    "#Calculating Volatility\n",
    "volatility_std = np.std(df2['spread'])\n",
    "#pd.Series([float(x) for x in spread_array]).std()\n",
    "volatility_var = np.var(df2['spread'])\n",
    "print('Volatility with standard deviation: %8f'%volatility_std)    \n",
    "print('and variance: %8f'%volatility_var)\n",
    "\n",
    "#Plotting spread vs. volatility\n",
    "fig1 = plt.figure(figsize=(10,10))\n",
    "ax11 = fig1.add_subplot(111)\n",
    "ax11.plot(df2['timestamp'], df2['spread'], linewidth=4.0, color='b', label='Spread')\n",
    "ax11.plot(df2['timestamp'], df2['spread'].rolling(window=5).std(), linewidth=4.0, color='r', label='Volatility')    \n",
    "ax11.set_xlabel('Time', fontsize=25)\n",
    "ax11.set_ylabel('Spread and Volatility', fontsize=25)\n",
    "ax11.set_title('Time Series', fontsize=25)\n",
    "ax11.legend(fontsize = 25)\n",
    "for item in (ax11.get_xticklabels() + ax11.get_yticklabels()):\n",
    "    item.set_fontsize(fontsize=25)\n",
    "plt.show()"
   ]
  },
  {
   "cell_type": "code",
   "execution_count": null,
   "metadata": {},
   "outputs": [],
   "source": [
    "df2"
   ]
  },
  {
   "cell_type": "code",
   "execution_count": null,
   "metadata": {},
   "outputs": [],
   "source": []
  }
 ],
 "metadata": {
  "kernelspec": {
   "display_name": "Python 3",
   "language": "python",
   "name": "python3"
  },
  "language_info": {
   "codemirror_mode": {
    "name": "ipython",
    "version": 3
   },
   "file_extension": ".py",
   "mimetype": "text/x-python",
   "name": "python",
   "nbconvert_exporter": "python",
   "pygments_lexer": "ipython3",
   "version": "3.5.2"
  }
 },
 "nbformat": 4,
 "nbformat_minor": 2
}
