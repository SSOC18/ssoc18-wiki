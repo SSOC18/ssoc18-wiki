{
 "cells": [
  {
   "cell_type": "code",
   "execution_count": 1,
   "metadata": {},
   "outputs": [
    {
     "name": "stderr",
     "output_type": "stream",
     "text": [
      "Using TensorFlow backend.\n"
     ]
    }
   ],
   "source": [
    "import keras\n",
    "from keras.layers.convolutional import Convolution2D\n",
    "from keras.layers.advanced_activations import LeakyReLU\n",
    "from keras.layers.pooling import MaxPooling2D\n",
    "from keras.layers.convolutional import Cropping2D\n",
    "from keras.layers.core import SpatialDropout2D\n",
    "from keras.applications.inception_v3 import InceptionV3\n",
    "from keras.layers.pooling import GlobalAveragePooling2D\n",
    "from keras.layers.core import Dense\n",
    "from keras.layers.normalization import BatchNormalization\n",
    "from keras.layers import Input\n",
    "from keras.models import Model\n",
    "from keras.regularizers import *\n",
    "\n",
    "\n",
    "def get_model():\n",
    "\taliases = {}\n",
    "\tInput_1 = Input(shape=(3, 480, 640), name='Input_1')\n",
    "\tInceptionV3_1_model = InceptionV3(include_top= False, input_tensor = Input_1)\n",
    "\tInceptionV3_1 = InceptionV3_1_model(Input_1)\n",
    "\taliases['InceptionV3_1'] = InceptionV3_1_model.name\n",
    "\tnum_layers = len(InceptionV3_1_model.layers)\n",
    "\tfor i, layer in enumerate(InceptionV3_1_model.layers):\n",
    "\t\tif ((i * 100) / (num_layers - 1)) <= (100 - 0):\n",
    "\t\t\tlayer.trainable = False\n",
    "\tCropping2D_2 = Cropping2D(name='Cropping2D_2',cropping= ((2, 2), (2, 2)))(InceptionV3_1)\n",
    "\tConvolution2D_1 = Convolution2D(name='Convolution2D_1',nb_filter= 2048,nb_row= 2,activation= 'tanh' ,nb_col= 2)(Cropping2D_2)\n",
    "\tLeakyReLU_1 = LeakyReLU(name='LeakyReLU_1')(Convolution2D_1)\n",
    "\tConvolution2D_2 = Convolution2D(name='Convolution2D_2',nb_filter= 1024,nb_row= 2,activation= 'tanh' ,nb_col= 2)(LeakyReLU_1)\n",
    "\tLeakyReLU_2 = LeakyReLU(name='LeakyReLU_2')(Convolution2D_2)\n",
    "\tMaxPooling2D_2 = MaxPooling2D(name='MaxPooling2D_2',border_mode= 'same' ,pool_size= (1, 1))(LeakyReLU_2)\n",
    "\tConvolution2D_5 = Convolution2D(name='Convolution2D_5',nb_filter= 512,nb_row= 3,activation= 'tanh' ,nb_col= 3)(MaxPooling2D_2)\n",
    "\tMaxPooling2D_3 = MaxPooling2D(name='MaxPooling2D_3')(Convolution2D_5)\n",
    "\tConvolution2D_9 = Convolution2D(name='Convolution2D_9',nb_filter= 256,nb_row= 3,border_mode= 'same' ,activation= 'tanh' ,nb_col= 3)(MaxPooling2D_3)\n",
    "\tMaxPooling2D_6 = MaxPooling2D(name='MaxPooling2D_6')(Convolution2D_9)\n",
    "\tGlobalAveragePooling2D_1 = GlobalAveragePooling2D(name='GlobalAveragePooling2D_1')(MaxPooling2D_6)\n",
    "\tBatchNormalization_4 = BatchNormalization(name='BatchNormalization_4')(GlobalAveragePooling2D_1)\n",
    "\tSpatialDropout2D_1 = SpatialDropout2D(name='SpatialDropout2D_1',p= 0.4)(BatchNormalization_4)\n",
    "\tDense_1 = Dense(name='Dense_1',output_dim= 8,activation= 'softmax' )(SpatialDropout2D_1)\n",
    "\n",
    "\tmodel = Model([Input_1],[Dense_1])\n",
    "\treturn aliases, model\n",
    "\n",
    "\n",
    "from keras.optimizers import *\n",
    "\n",
    "def get_optimizer():\n",
    "\treturn Adadelta()\n",
    "\n",
    "def is_custom_loss_function():\n",
    "\treturn False\n",
    "\n",
    "def get_loss_function():\n",
    "\treturn 'categorical_crossentropy'\n",
    "\n",
    "def get_batch_size():\n",
    "\treturn 32\n",
    "\n",
    "def get_num_epoch():\n",
    "\treturn 10\n",
    "\n",
    "def get_data_config():\n",
    "\treturn '{\"samples\": {\"test\": 992, \"training\": 4630, \"validation\": 992, \"split\": 3}, \"shuffle\": true, \"datasetLoadOption\": \"full\", \"kfold\": 1, \"dataset\": {\"samples\": 6615, \"type\": \"public\", \"name\": \"Soda Bottles\"}, \"numPorts\": 1, \"mapping\": {\"Filename\": {\"port\": \"InputPort0\", \"options\": {\"Width\": 28, \"horizontal_flip\": false, \"Scaling\": 1, \"Augmentation\": false, \"vertical_flip\": false, \"shear_range\": 0, \"pretrained\": \"None\", \"Resize\": false, \"height_shift_range\": 0, \"Normalization\": false, \"width_shift_range\": 0, \"Height\": 28, \"rotation_range\": 0}, \"shape\": \"\", \"type\": \"Image\"}, \"Label\": {\"port\": \"OutputPort0\", \"options\": {}, \"shape\": \"\", \"type\": \"Categorical\"}}}'"
   ]
  },
  {
   "cell_type": "code",
   "execution_count": null,
   "metadata": {},
   "outputs": [],
   "source": []
  }
 ],
 "metadata": {
  "kernelspec": {
   "display_name": "Python 3",
   "language": "python",
   "name": "python3"
  },
  "language_info": {
   "codemirror_mode": {
    "name": "ipython",
    "version": 3
   },
   "file_extension": ".py",
   "mimetype": "text/x-python",
   "name": "python",
   "nbconvert_exporter": "python",
   "pygments_lexer": "ipython3",
   "version": "3.5.2"
  }
 },
 "nbformat": 4,
 "nbformat_minor": 2
}
